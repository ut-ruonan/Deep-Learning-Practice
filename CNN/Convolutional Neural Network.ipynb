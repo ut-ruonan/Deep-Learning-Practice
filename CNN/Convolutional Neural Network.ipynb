{
 "cells": [
  {
   "cell_type": "markdown",
   "id": "68e14ef98983a167",
   "metadata": {},
   "source": [
    "## Convolutional Neural Network\n"
   ]
  },
  {
   "cell_type": "markdown",
   "id": "f30154654d1e3f88",
   "metadata": {},
   "source": [
    "Import the libraries"
   ]
  },
  {
   "cell_type": "code",
   "execution_count": 8,
   "id": "282eff627bb6a14f",
   "metadata": {
    "ExecuteTime": {
     "end_time": "2024-01-19T21:02:04.462905Z",
     "start_time": "2024-01-19T21:01:58.881239Z"
    }
   },
   "outputs": [
    {
     "name": "stderr",
     "output_type": "stream",
     "text": [
      "2024-01-19 16:02:01.071275: I tensorflow/core/platform/cpu_feature_guard.cc:182] This TensorFlow binary is optimized to use available CPU instructions in performance-critical operations.\n",
      "To enable the following instructions: AVX2 FMA, in other operations, rebuild TensorFlow with the appropriate compiler flags.\n"
     ]
    }
   ],
   "source": [
    "import tensorflow as tf \n",
    "from keras.preprocessing.image import ImageDataGenerator"
   ]
  },
  {
   "cell_type": "code",
   "outputs": [
    {
     "data": {
      "text/plain": "'2.15.0'"
     },
     "execution_count": 12,
     "metadata": {},
     "output_type": "execute_result"
    }
   ],
   "source": [
    "tf.__version__\n"
   ],
   "metadata": {
    "collapsed": false,
    "ExecuteTime": {
     "end_time": "2024-01-19T21:03:21.281047Z",
     "start_time": "2024-01-19T21:03:21.266390Z"
    }
   },
   "id": "e78887a922f3e9da",
   "execution_count": 12
  },
  {
   "cell_type": "markdown",
   "id": "3a27bd9e58363158",
   "metadata": {},
   "source": [
    "### Part 1 - Data Preprocessing\n",
    "Preprocessing the Training Set"
   ]
  },
  {
   "cell_type": "markdown",
   "id": "d48644c66a636483",
   "metadata": {},
   "source": [
    "Preprocessing the Test Set\n"
   ]
  },
  {
   "cell_type": "markdown",
   "id": "107cb2e2c703732c",
   "metadata": {},
   "source": [
    "### Part 2 - Building the CNN"
   ]
  },
  {
   "cell_type": "markdown",
   "id": "a43e8cd0d3eeb3e7",
   "metadata": {},
   "source": [
    "Initializing the CNN"
   ]
  },
  {
   "cell_type": "markdown",
   "id": "c8bd37928bc4942f",
   "metadata": {},
   "source": [
    "Step 1 - Convolution"
   ]
  },
  {
   "cell_type": "markdown",
   "id": "fc6aa2fef00f2a97",
   "metadata": {},
   "source": [
    "Step 2 - Pooling"
   ]
  },
  {
   "cell_type": "markdown",
   "id": "62e6752989207464",
   "metadata": {},
   "source": [
    "Adding a second convolutional layer "
   ]
  },
  {
   "cell_type": "markdown",
   "id": "a16f157ce07b5cae",
   "metadata": {},
   "source": [
    "Step 3 - Flattening"
   ]
  },
  {
   "cell_type": "markdown",
   "id": "786e3e5f4b2f495",
   "metadata": {},
   "source": [
    "Step 4 - Full Connection"
   ]
  },
  {
   "cell_type": "markdown",
   "id": "7d5770f2ec68ed22",
   "metadata": {},
   "source": [
    "Step 5 - Output Layer"
   ]
  },
  {
   "cell_type": "markdown",
   "id": "c547d754a2c1a7d5",
   "metadata": {},
   "source": [
    "### Part 3 - Training the CNN\n"
   ]
  },
  {
   "cell_type": "markdown",
   "id": "cbfd7a7a88ae7499",
   "metadata": {},
   "source": [
    "Compiling the CNN"
   ]
  },
  {
   "cell_type": "markdown",
   "id": "7a1fc81ddda773a4",
   "metadata": {},
   "source": [
    "Training the CNN on the Training Set and Evaluating it on the Test Set"
   ]
  },
  {
   "cell_type": "markdown",
   "id": "9550de320d7eb48e",
   "metadata": {},
   "source": [
    "### Part 4 - Making a single prediction"
   ]
  },
  {
   "cell_type": "code",
   "execution_count": null,
   "id": "dad780ed2a844221",
   "metadata": {},
   "outputs": [],
   "source": []
  }
 ],
 "metadata": {
  "kernelspec": {
   "display_name": "Python 3 (ipykernel)",
   "language": "python",
   "name": "python3"
  },
  "language_info": {
   "codemirror_mode": {
    "name": "ipython",
    "version": 3
   },
   "file_extension": ".py",
   "mimetype": "text/x-python",
   "name": "python",
   "nbconvert_exporter": "python",
   "pygments_lexer": "ipython3",
   "version": "3.11.5"
  }
 },
 "nbformat": 4,
 "nbformat_minor": 5
}
