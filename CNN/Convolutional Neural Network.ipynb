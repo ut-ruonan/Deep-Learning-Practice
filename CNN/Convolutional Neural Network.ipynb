{
 "cells": [
  {
   "cell_type": "markdown",
   "id": "68e14ef98983a167",
   "metadata": {},
   "source": [
    "## Convolutional Neural Network\n"
   ]
  },
  {
   "cell_type": "markdown",
   "id": "f30154654d1e3f88",
   "metadata": {},
   "source": [
    "Import the libraries"
   ]
  },
  {
   "cell_type": "code",
   "execution_count": 34,
   "id": "282eff627bb6a14f",
   "metadata": {
    "ExecuteTime": {
     "end_time": "2024-01-22T14:45:45.720653Z",
     "start_time": "2024-01-22T14:45:45.581987Z"
    }
   },
   "outputs": [],
   "source": [
    "import tensorflow as tf \n",
    "from keras.preprocessing.image import ImageDataGenerator\n"
   ]
  },
  {
   "cell_type": "code",
   "outputs": [
    {
     "data": {
      "text/plain": "'2.15.0'"
     },
     "execution_count": 35,
     "metadata": {},
     "output_type": "execute_result"
    }
   ],
   "source": [
    "tf.__version__\n",
    "\n"
   ],
   "metadata": {
    "collapsed": false,
    "ExecuteTime": {
     "end_time": "2024-01-22T14:45:45.742228Z",
     "start_time": "2024-01-22T14:45:45.724932Z"
    }
   },
   "id": "e78887a922f3e9da",
   "execution_count": 35
  },
  {
   "cell_type": "markdown",
   "id": "3a27bd9e58363158",
   "metadata": {},
   "source": [
    "### Part 1 - Data Preprocessing\n",
    "Preprocessing the Training Set"
   ]
  },
  {
   "cell_type": "code",
   "outputs": [
    {
     "name": "stdout",
     "output_type": "stream",
     "text": [
      "Found 8000 images belonging to 2 classes.\n"
     ]
    }
   ],
   "source": [
    "train_datagen = ImageDataGenerator(\n",
    "    rescale=1./255,\n",
    "    shear_range=0.2,\n",
    "    zoom_range=0.2,\n",
    "    horizontal_flip=True)\n",
    "\n",
    "training_set = train_datagen.flow_from_directory(\n",
    "    'dataset/training_set',\n",
    "    target_size=(64, 64),\n",
    "    batch_size=32,\n",
    "    class_mode='binary')\n",
    "\n"
   ],
   "metadata": {
    "collapsed": false,
    "ExecuteTime": {
     "end_time": "2024-01-22T14:45:46.194022Z",
     "start_time": "2024-01-22T14:45:45.745469Z"
    }
   },
   "id": "5ef9acefbd12aa59",
   "execution_count": 36
  },
  {
   "cell_type": "markdown",
   "id": "d48644c66a636483",
   "metadata": {},
   "source": [
    "Preprocessing the Test Set\n"
   ]
  },
  {
   "cell_type": "code",
   "outputs": [
    {
     "name": "stdout",
     "output_type": "stream",
     "text": [
      "Found 2000 images belonging to 2 classes.\n"
     ]
    }
   ],
   "source": [
    "test_datagen = ImageDataGenerator(rescale=1./255)\n",
    "test_set = test_datagen.flow_from_directory(\n",
    "    'dataset/test_set',\n",
    "    target_size=(64, 64),\n",
    "    batch_size=32,\n",
    "    class_mode='binary'\n",
    ")"
   ],
   "metadata": {
    "collapsed": false,
    "ExecuteTime": {
     "end_time": "2024-01-22T14:45:46.327038Z",
     "start_time": "2024-01-22T14:45:46.196375Z"
    }
   },
   "id": "1ec6cccbbc8d013f",
   "execution_count": 37
  },
  {
   "cell_type": "markdown",
   "id": "107cb2e2c703732c",
   "metadata": {},
   "source": [
    "### Part 2 - Building the CNN"
   ]
  },
  {
   "cell_type": "markdown",
   "id": "a43e8cd0d3eeb3e7",
   "metadata": {},
   "source": [
    "Initializing the CNN"
   ]
  },
  {
   "cell_type": "code",
   "outputs": [],
   "source": [
    "cnn = tf.keras.models.Sequential()\n"
   ],
   "metadata": {
    "collapsed": false,
    "ExecuteTime": {
     "end_time": "2024-01-22T14:45:46.336719Z",
     "start_time": "2024-01-22T14:45:46.329285Z"
    }
   },
   "id": "bd16275accd6f942",
   "execution_count": 38
  },
  {
   "cell_type": "markdown",
   "id": "c8bd37928bc4942f",
   "metadata": {},
   "source": [
    "Step 1 - Convolution"
   ]
  },
  {
   "cell_type": "code",
   "outputs": [],
   "source": [
    "cnn.add(tf.keras.layers.Conv2D(filters=32, kernel_size=3, activation='relu', input_shape=[64, 64, 3]))"
   ],
   "metadata": {
    "collapsed": false,
    "ExecuteTime": {
     "end_time": "2024-01-22T14:45:46.369350Z",
     "start_time": "2024-01-22T14:45:46.343237Z"
    }
   },
   "id": "97dbfa40ad15b890",
   "execution_count": 39
  },
  {
   "cell_type": "markdown",
   "id": "fc6aa2fef00f2a97",
   "metadata": {},
   "source": [
    "Step 2 - Pooling"
   ]
  },
  {
   "cell_type": "code",
   "outputs": [],
   "source": [
    "cnn.add(tf.keras.layers.MaxPool2D(pool_size=2, strides=2))"
   ],
   "metadata": {
    "collapsed": false,
    "ExecuteTime": {
     "end_time": "2024-01-22T14:45:46.370210Z",
     "start_time": "2024-01-22T14:45:46.362483Z"
    }
   },
   "id": "144c7914414ac8af",
   "execution_count": 40
  },
  {
   "cell_type": "markdown",
   "id": "62e6752989207464",
   "metadata": {},
   "source": [
    "Adding a second convolutional layer "
   ]
  },
  {
   "cell_type": "code",
   "outputs": [],
   "source": [
    "cnn.add(tf.keras.layers.Conv2D(filters=32, kernel_size=3, activation='relu'))\n",
    "cnn.add(tf.keras.layers.MaxPool2D(pool_size=2, strides=2))"
   ],
   "metadata": {
    "collapsed": false,
    "ExecuteTime": {
     "end_time": "2024-01-22T14:45:46.410248Z",
     "start_time": "2024-01-22T14:45:46.369718Z"
    }
   },
   "id": "e7bfe2260e065d5f",
   "execution_count": 41
  },
  {
   "cell_type": "markdown",
   "id": "a16f157ce07b5cae",
   "metadata": {},
   "source": [
    "Step 3 - Flattening"
   ]
  },
  {
   "cell_type": "code",
   "outputs": [],
   "source": [
    "cnn.add(tf.keras.layers.Flatten())"
   ],
   "metadata": {
    "collapsed": false,
    "ExecuteTime": {
     "end_time": "2024-01-22T14:45:46.411564Z",
     "start_time": "2024-01-22T14:45:46.394016Z"
    }
   },
   "id": "d0f60120f838da3e",
   "execution_count": 42
  },
  {
   "cell_type": "markdown",
   "source": [
    "Step 4 - Full Connection"
   ],
   "metadata": {},
   "id": "786e3e5f4b2f495"
  },
  {
   "cell_type": "code",
   "outputs": [],
   "source": [
    "cnn.add(tf.keras.layers.Dense(units=128, activation='relu'))"
   ],
   "metadata": {
    "collapsed": false,
    "ExecuteTime": {
     "end_time": "2024-01-22T14:45:46.435303Z",
     "start_time": "2024-01-22T14:45:46.397526Z"
    }
   },
   "id": "5c3045b11614a723",
   "execution_count": 43
  },
  {
   "cell_type": "markdown",
   "id": "7d5770f2ec68ed22",
   "metadata": {},
   "source": [
    "Step 5 - Output Layer"
   ]
  },
  {
   "cell_type": "code",
   "outputs": [],
   "source": [
    "cnn.add(tf.keras.layers.Dense(units=1, activation='sigmoid'))"
   ],
   "metadata": {
    "collapsed": false,
    "ExecuteTime": {
     "end_time": "2024-01-22T14:45:46.436362Z",
     "start_time": "2024-01-22T14:45:46.419475Z"
    }
   },
   "id": "68fc0005d4ac9d3e",
   "execution_count": 44
  },
  {
   "cell_type": "markdown",
   "id": "c547d754a2c1a7d5",
   "metadata": {},
   "source": [
    "### Part 3 - Training the CNN\n"
   ]
  },
  {
   "cell_type": "markdown",
   "id": "cbfd7a7a88ae7499",
   "metadata": {},
   "source": [
    "Compiling the CNN"
   ]
  },
  {
   "cell_type": "code",
   "outputs": [],
   "source": [
    "cnn.compile(optimizer='adam', loss='binary_crossentropy', metrics=['accuracy'])"
   ],
   "metadata": {
    "collapsed": false,
    "ExecuteTime": {
     "end_time": "2024-01-22T14:45:46.445456Z",
     "start_time": "2024-01-22T14:45:46.437401Z"
    }
   },
   "id": "720e30378ea4376f",
   "execution_count": 45
  },
  {
   "cell_type": "markdown",
   "id": "7a1fc81ddda773a4",
   "metadata": {},
   "source": [
    "Training the CNN on the Training Set and Evaluating it on the Test Set"
   ]
  },
  {
   "cell_type": "code",
   "outputs": [
    {
     "name": "stdout",
     "output_type": "stream",
     "text": [
      "Epoch 1/25\n",
      "250/250 [==============================] - 52s 202ms/step - loss: 0.6754 - accuracy: 0.5746 - val_loss: 0.6463 - val_accuracy: 0.6325\n",
      "Epoch 2/25\n",
      "250/250 [==============================] - 42s 168ms/step - loss: 0.6166 - accuracy: 0.6535 - val_loss: 0.5660 - val_accuracy: 0.7205\n",
      "Epoch 3/25\n",
      "250/250 [==============================] - 42s 169ms/step - loss: 0.5706 - accuracy: 0.7024 - val_loss: 0.5492 - val_accuracy: 0.7245\n",
      "Epoch 4/25\n",
      "250/250 [==============================] - 42s 167ms/step - loss: 0.5228 - accuracy: 0.7385 - val_loss: 0.5668 - val_accuracy: 0.7105\n",
      "Epoch 5/25\n",
      "250/250 [==============================] - 56s 224ms/step - loss: 0.5022 - accuracy: 0.7550 - val_loss: 0.5253 - val_accuracy: 0.7515\n",
      "Epoch 6/25\n",
      "250/250 [==============================] - 51s 205ms/step - loss: 0.4858 - accuracy: 0.7634 - val_loss: 0.4753 - val_accuracy: 0.7775\n",
      "Epoch 7/25\n",
      "250/250 [==============================] - 43s 172ms/step - loss: 0.4617 - accuracy: 0.7786 - val_loss: 0.4816 - val_accuracy: 0.7685\n",
      "Epoch 8/25\n",
      "250/250 [==============================] - 43s 170ms/step - loss: 0.4465 - accuracy: 0.7862 - val_loss: 0.4816 - val_accuracy: 0.7780\n",
      "Epoch 9/25\n",
      "250/250 [==============================] - 43s 170ms/step - loss: 0.4277 - accuracy: 0.8015 - val_loss: 0.4646 - val_accuracy: 0.7885\n",
      "Epoch 10/25\n",
      "250/250 [==============================] - 43s 171ms/step - loss: 0.4206 - accuracy: 0.8033 - val_loss: 0.5300 - val_accuracy: 0.7580\n",
      "Epoch 11/25\n",
      "250/250 [==============================] - 50s 201ms/step - loss: 0.4052 - accuracy: 0.8142 - val_loss: 0.4926 - val_accuracy: 0.7635\n",
      "Epoch 12/25\n",
      "250/250 [==============================] - 43s 172ms/step - loss: 0.3811 - accuracy: 0.8276 - val_loss: 0.4571 - val_accuracy: 0.7930\n",
      "Epoch 13/25\n",
      "250/250 [==============================] - 41s 163ms/step - loss: 0.3688 - accuracy: 0.8325 - val_loss: 0.4654 - val_accuracy: 0.7875\n",
      "Epoch 14/25\n",
      "250/250 [==============================] - 41s 162ms/step - loss: 0.3532 - accuracy: 0.8436 - val_loss: 0.4773 - val_accuracy: 0.7980\n",
      "Epoch 15/25\n",
      "250/250 [==============================] - 43s 172ms/step - loss: 0.3390 - accuracy: 0.8565 - val_loss: 0.4692 - val_accuracy: 0.7960\n",
      "Epoch 16/25\n",
      "250/250 [==============================] - 40s 161ms/step - loss: 0.3271 - accuracy: 0.8568 - val_loss: 0.4605 - val_accuracy: 0.7985\n",
      "Epoch 17/25\n",
      "250/250 [==============================] - 43s 172ms/step - loss: 0.3130 - accuracy: 0.8627 - val_loss: 0.4636 - val_accuracy: 0.8010\n",
      "Epoch 18/25\n",
      "250/250 [==============================] - 43s 171ms/step - loss: 0.3001 - accuracy: 0.8716 - val_loss: 0.4878 - val_accuracy: 0.7910\n",
      "Epoch 19/25\n",
      "250/250 [==============================] - 41s 165ms/step - loss: 0.2867 - accuracy: 0.8805 - val_loss: 0.4693 - val_accuracy: 0.8080\n",
      "Epoch 20/25\n",
      "250/250 [==============================] - 48s 194ms/step - loss: 0.2602 - accuracy: 0.8934 - val_loss: 0.5142 - val_accuracy: 0.7885\n",
      "Epoch 21/25\n",
      "250/250 [==============================] - 45s 178ms/step - loss: 0.2538 - accuracy: 0.8903 - val_loss: 0.4936 - val_accuracy: 0.8020\n",
      "Epoch 22/25\n",
      "250/250 [==============================] - 46s 182ms/step - loss: 0.2485 - accuracy: 0.8967 - val_loss: 0.4973 - val_accuracy: 0.7995\n",
      "Epoch 23/25\n",
      "250/250 [==============================] - 43s 172ms/step - loss: 0.2291 - accuracy: 0.9072 - val_loss: 0.5232 - val_accuracy: 0.8020\n",
      "Epoch 24/25\n",
      "250/250 [==============================] - 42s 168ms/step - loss: 0.2182 - accuracy: 0.9101 - val_loss: 0.5175 - val_accuracy: 0.8070\n",
      "Epoch 25/25\n",
      "250/250 [==============================] - 43s 171ms/step - loss: 0.2084 - accuracy: 0.9150 - val_loss: 0.5326 - val_accuracy: 0.8015\n"
     ]
    },
    {
     "data": {
      "text/plain": "<keras.src.callbacks.History at 0x1525b7550>"
     },
     "execution_count": 46,
     "metadata": {},
     "output_type": "execute_result"
    }
   ],
   "source": [
    "cnn.fit(x = training_set, validation_data = test_set, epochs = 25)"
   ],
   "metadata": {
    "collapsed": false,
    "ExecuteTime": {
     "end_time": "2024-01-22T15:04:14.392683Z",
     "start_time": "2024-01-22T14:45:46.447346Z"
    }
   },
   "id": "49b3bad3b3e78265",
   "execution_count": 46
  },
  {
   "cell_type": "markdown",
   "id": "9550de320d7eb48e",
   "metadata": {},
   "source": [
    "### Part 4 - Making a single prediction"
   ]
  },
  {
   "cell_type": "code",
   "outputs": [
    {
     "name": "stdout",
     "output_type": "stream",
     "text": [
      "1/1 [==============================] - 0s 97ms/step\n"
     ]
    }
   ],
   "source": [
    "import numpy as np\n",
    "from keras.preprocessing import image\n",
    "test_image = image.load_img('dataset/single_prediction/cat_or_dog_1.jpg', target_size = (64, 64))\n",
    "test_image = image.img_to_array(test_image)\n",
    "test_image = np.expand_dims(test_image, axis = 0)\n",
    "result = cnn.predict(test_image/255.0)\n",
    "training_set.class_indices\n",
    "if result[0][0] > 0.5:\n",
    "    prediction = 'dog'\n",
    "else:\n",
    "    prediction = 'cat'"
   ],
   "metadata": {
    "collapsed": false,
    "ExecuteTime": {
     "end_time": "2024-01-22T15:04:14.562821Z",
     "start_time": "2024-01-22T15:04:14.392191Z"
    }
   },
   "id": "c598daf09c399c5",
   "execution_count": 47
  },
  {
   "cell_type": "code",
   "execution_count": 48,
   "id": "dad780ed2a844221",
   "metadata": {
    "ExecuteTime": {
     "end_time": "2024-01-22T15:04:14.571845Z",
     "start_time": "2024-01-22T15:04:14.562303Z"
    }
   },
   "outputs": [
    {
     "name": "stdout",
     "output_type": "stream",
     "text": [
      "dog\n"
     ]
    }
   ],
   "source": [
    "print(prediction)"
   ]
  },
  {
   "cell_type": "code",
   "outputs": [
    {
     "name": "stdout",
     "output_type": "stream",
     "text": [
      "1/1 [==============================] - 0s 19ms/step\n",
      "cat\n"
     ]
    }
   ],
   "source": [
    "test_image = image.load_img('dataset/single_prediction/cat_or_dog_2.jpg', target_size = (64, 64))\n",
    "test_image = image.img_to_array(test_image)\n",
    "test_image = np.expand_dims(test_image, axis = 0)\n",
    "result = cnn.predict(test_image/255.0)\n",
    "training_set.class_indices\n",
    "if result[0][0] > 0.5:\n",
    "    prediction = 'dog'\n",
    "else:\n",
    "    prediction = 'cat'\n",
    "\n",
    "print(prediction)"
   ],
   "metadata": {
    "collapsed": false,
    "ExecuteTime": {
     "end_time": "2024-01-22T15:08:20.225619Z",
     "start_time": "2024-01-22T15:08:20.106109Z"
    }
   },
   "id": "47748aa82c9fed8c",
   "execution_count": 49
  },
  {
   "cell_type": "code",
   "outputs": [],
   "source": [],
   "metadata": {
    "collapsed": false
   },
   "id": "d8ec82373de2361f"
  }
 ],
 "metadata": {
  "kernelspec": {
   "display_name": "Python 3 (ipykernel)",
   "language": "python",
   "name": "python3"
  },
  "language_info": {
   "codemirror_mode": {
    "name": "ipython",
    "version": 3
   },
   "file_extension": ".py",
   "mimetype": "text/x-python",
   "name": "python",
   "nbconvert_exporter": "python",
   "pygments_lexer": "ipython3",
   "version": "3.11.5"
  }
 },
 "nbformat": 4,
 "nbformat_minor": 5
}
